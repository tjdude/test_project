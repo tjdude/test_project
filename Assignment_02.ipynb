{
  "nbformat": 4,
  "nbformat_minor": 0,
  "metadata": {
    "colab": {
      "name": "Assignment 02.ipynb",
      "provenance": [],
      "collapsed_sections": [],
      "include_colab_link": true
    },
    "kernelspec": {
      "name": "python3",
      "display_name": "Python 3"
    },
    "language_info": {
      "name": "python"
    }
  },
  "cells": [
    {
      "cell_type": "markdown",
      "metadata": {
        "id": "view-in-github",
        "colab_type": "text"
      },
      "source": [
        "<a href=\"https://colab.research.google.com/github/tjdude/test_project/blob/main/Assignment_02.ipynb\" target=\"_parent\"><img src=\"https://colab.research.google.com/assets/colab-badge.svg\" alt=\"Open In Colab\"/></a>"
      ]
    },
    {
      "cell_type": "code",
      "execution_count": 30,
      "metadata": {
        "colab": {
          "base_uri": "https://localhost:8080/"
        },
        "id": "N9YUsOry9nD0",
        "outputId": "3a7c0ed2-cc79-4bb6-aa6e-d5e44dd7b395"
      },
      "outputs": [
        {
          "output_type": "stream",
          "name": "stdout",
          "text": [
            "김밥의 가격은? 5000\n",
            "dict_values([5000, 3000, 2000])\n"
          ]
        }
      ],
      "source": [
        "# 사전의 구조와 이해\n",
        "\n",
        "price = {'김밥': 5000, '어묵':3000, '떡볶이':2000}\n",
        "\n",
        "print(f\"김밥의 가격은? {price['김밥']}\")\n",
        "dict_values = price.values()\n",
        "print(dict_values)"
      ]
    },
    {
      "cell_type": "code",
      "source": [
        "# 리스트의 슬라이싱을 사용하여 아래를 출력하세요\n",
        "\n",
        "tp = [1,2,3,4,5,6,7]\n",
        "\n",
        "print(tp[0])\n",
        "\n",
        "print(tp[:3])\n",
        "\n",
        "print(tp[3:])\n",
        "\n",
        "print(tp[6])\n",
        "\n",
        "tp.reverse()\n",
        "print(tp)\n"
      ],
      "metadata": {
        "colab": {
          "base_uri": "https://localhost:8080/"
        },
        "id": "lQCEERSl-Wba",
        "outputId": "f399c246-1eea-42de-c5fc-e9b84fd8e10f"
      },
      "execution_count": 23,
      "outputs": [
        {
          "output_type": "stream",
          "name": "stdout",
          "text": [
            "1\n",
            "[1, 2, 3]\n",
            "[4, 5, 6, 7]\n",
            "7\n",
            "[7, 6, 5, 4, 3, 2, 1]\n"
          ]
        }
      ]
    },
    {
      "cell_type": "code",
      "source": [
        "# 조건문\n",
        "# 점수를 입력받아 등급을 출력하세요\n",
        "# 등급표 81~100\tA / 61~80\tB / 41~60\tC / 21~40\tD / 0~20\tE\n",
        "\n",
        "score = int(input(\"점수를 입력하세요: \"))\n",
        "\n",
        "if score > 80:\n",
        "  print(f\"점수는{score}이며 등급은 {'A'}등급입니다.\")\n",
        "\n",
        "elif score > 60:\n",
        "  print(f\"점수는{score}이며 등급은 {'B'}등급입니다.\")\n",
        "\n",
        "elif score > 40:\n",
        "  print(f\"점수는{score}이며 등급은 {'C'}등급입니다.\")\n",
        "\n",
        "elif score > 20:\n",
        "  print(f\"점수는{score}이며 등급은 {'D'}등급입니다.\")\n",
        "\n",
        "else:\n",
        "  print(f\"점수는{score}이며 등급은 {'E'}등급입니다.\")\n",
        "\n",
        "\n",
        "\n",
        "\n",
        "\n",
        "\n",
        "\n",
        "\n",
        "\n",
        "\n",
        "#\n",
        "######################\n"
      ],
      "metadata": {
        "colab": {
          "base_uri": "https://localhost:8080/"
        },
        "id": "YxX6NxrNCK5z",
        "outputId": "3452f941-ff8e-466b-d3f3-915deba88d43"
      },
      "execution_count": 8,
      "outputs": [
        {
          "output_type": "stream",
          "name": "stdout",
          "text": [
            "점수를 입력하세요: 67\n",
            "점수는67이며 등급은 B등급입니다.\n"
          ]
        }
      ]
    },
    {
      "cell_type": "code",
      "source": [
        "# 함수를 만들고 두 수를 입력받아 연산하세요\n",
        "\n",
        "a = int(input('첫 번째 정수를 입력하세요: '))\n",
        "b = int(input('두 번째 정수를 입력하세요: '))\n",
        "\n",
        "# complete the blanks\n",
        "#\n",
        "print(\"덧셈 함수 연산 : \", a+b)\n",
        "print(\"곱셈 함수 연산 : \", a*b)\n",
        "print(\"제곱 함수 연산 : \", a**b)\n",
        "\n",
        "\n",
        "\n",
        "\n",
        "\n",
        "\n",
        "\n",
        "\n",
        "#\n",
        "######################\n"
      ],
      "metadata": {
        "colab": {
          "base_uri": "https://localhost:8080/"
        },
        "id": "mD9n7jRG-8qL",
        "outputId": "3c436976-5a29-434d-c093-1bdae61f0c8e"
      },
      "execution_count": 10,
      "outputs": [
        {
          "output_type": "stream",
          "name": "stdout",
          "text": [
            "첫 번째 정수를 입력하세요: 3\n",
            "두 번째 정수를 입력하세요: 5\n",
            "덧셈 함수 연산 :  8\n",
            "곱셈 함수 연산 :  15\n",
            "제곱 함수 연산 :  243\n"
          ]
        }
      ]
    },
    {
      "cell_type": "code",
      "source": [
        "# 알고리즘 생성\n",
        "# 피보나치 수열을 계산하는 함수를 생성하고 자연수 10을 넣어 실행하세요\n",
        "\n",
        "# complete the blanks\n",
        "#\n",
        "def pivo(n):\n",
        "  _curr, _next = 0,1\n",
        "  for _ in range(n):\n",
        "      _curr, _next = _next, _curr + _next\n",
        "  return _curr\n",
        "\n",
        "\n",
        "#\n",
        "######################\n",
        "\n",
        "print(pivo(10))\n"
      ],
      "metadata": {
        "colab": {
          "base_uri": "https://localhost:8080/"
        },
        "id": "OL3QMyusC9V0",
        "outputId": "9a32c4f6-c3aa-4b6e-dfdd-99d50abee669"
      },
      "execution_count": 12,
      "outputs": [
        {
          "output_type": "stream",
          "name": "stdout",
          "text": [
            "55\n"
          ]
        }
      ]
    },
    {
      "cell_type": "code",
      "source": [
        "# 클래스\n",
        "# 사람 (Human) 클래스를 정의하고 (이름, 나이, 성별)을 받는 생성자를 추가하세요.\n",
        "\n",
        "class Human:\n",
        "  def __init__(self, name, age, gender):\n",
        "    self.name = name\n",
        "    self.age = age\n",
        "    self.gender = gender\n",
        "\n",
        "  def print(self):\n",
        "    print(f\"이름은 {self.name}, 나이는 {self.age}, 성별은 {self.gender}입니다.\")\n",
        "\n",
        "a = Human(\"name\",\"age\",\"gender\")\n",
        "a.print()\n"
      ],
      "metadata": {
        "id": "nYv044w8Ae0Z",
        "colab": {
          "base_uri": "https://localhost:8080/"
        },
        "outputId": "b7a4faa9-de93-42da-9edc-3350dbd9a36d"
      },
      "execution_count": 20,
      "outputs": [
        {
          "output_type": "stream",
          "name": "stdout",
          "text": [
            "이름은 na, 나이는 age, 성별은 gender입니다.\n"
          ]
        }
      ]
    }
  ]
}